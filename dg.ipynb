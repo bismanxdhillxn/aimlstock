{
 "cells": [
  {
   "cell_type": "code",
   "execution_count": 3,
   "id": "904c47c8",
   "metadata": {},
   "outputs": [
    {
     "name": "stdout",
     "output_type": "stream",
     "text": [
      "Requirement already satisfied: pandas in c:\\users\\bisman dhillon\\anaconda3\\lib\\site-packages (1.4.2)\n",
      "Requirement already satisfied: numpy in c:\\users\\bisman dhillon\\anaconda3\\lib\\site-packages (1.21.5)\n",
      "Requirement already satisfied: matplotlib in c:\\users\\bisman dhillon\\anaconda3\\lib\\site-packages (3.5.1)\n",
      "Requirement already satisfied: scikit-learn in c:\\users\\bisman dhillon\\anaconda3\\lib\\site-packages (1.0.2)\n",
      "Requirement already satisfied: notebook in c:\\users\\bisman dhillon\\anaconda3\\lib\\site-packages (6.4.8)\n",
      "Requirement already satisfied: pytz>=2020.1 in c:\\users\\bisman dhillon\\anaconda3\\lib\\site-packages (from pandas) (2021.3)\n",
      "Requirement already satisfied: python-dateutil>=2.8.1 in c:\\users\\bisman dhillon\\anaconda3\\lib\\site-packages (from pandas) (2.8.2)\n",
      "Requirement already satisfied: pyparsing>=2.2.1 in c:\\users\\bisman dhillon\\anaconda3\\lib\\site-packages (from matplotlib) (3.0.4)\n",
      "Note: you may need to restart the kernel to use updated packages.\n",
      "Requirement already satisfied: packaging>=20.0 in c:\\users\\bisman dhillon\\anaconda3\\lib\\site-packages (from matplotlib) (21.3)\n",
      "Requirement already satisfied: fonttools>=4.22.0 in c:\\users\\bisman dhillon\\anaconda3\\lib\\site-packages (from matplotlib) (4.25.0)\n",
      "Requirement already satisfied: kiwisolver>=1.0.1 in c:\\users\\bisman dhillon\\anaconda3\\lib\\site-packages (from matplotlib) (1.3.2)\n",
      "Requirement already satisfied: pillow>=6.2.0 in c:\\users\\bisman dhillon\\anaconda3\\lib\\site-packages (from matplotlib) (9.0.1)\n",
      "Requirement already satisfied: cycler>=0.10 in c:\\users\\bisman dhillon\\anaconda3\\lib\\site-packages (from matplotlib) (0.11.0)\n",
      "Requirement already satisfied: threadpoolctl>=2.0.0 in c:\\users\\bisman dhillon\\anaconda3\\lib\\site-packages (from scikit-learn) (2.2.0)\n",
      "Requirement already satisfied: scipy>=1.1.0 in c:\\users\\bisman dhillon\\anaconda3\\lib\\site-packages (from scikit-learn) (1.7.3)\n",
      "Requirement already satisfied: joblib>=0.11 in c:\\users\\bisman dhillon\\anaconda3\\lib\\site-packages (from scikit-learn) (1.1.0)\n",
      "Requirement already satisfied: prometheus-client in c:\\users\\bisman dhillon\\anaconda3\\lib\\site-packages (from notebook) (0.13.1)\n",
      "Requirement already satisfied: terminado>=0.8.3 in c:\\users\\bisman dhillon\\anaconda3\\lib\\site-packages (from notebook) (0.13.1)\n",
      "Requirement already satisfied: jupyter-client>=5.3.4 in c:\\users\\bisman dhillon\\anaconda3\\lib\\site-packages (from notebook) (6.1.12)\n",
      "Requirement already satisfied: pyzmq>=17 in c:\\users\\bisman dhillon\\anaconda3\\lib\\site-packages (from notebook) (22.3.0)\n",
      "Requirement already satisfied: argon2-cffi in c:\\users\\bisman dhillon\\anaconda3\\lib\\site-packages (from notebook) (21.3.0)\n",
      "Requirement already satisfied: nbformat in c:\\users\\bisman dhillon\\anaconda3\\lib\\site-packages (from notebook) (5.3.0)\n",
      "Requirement already satisfied: jinja2 in c:\\users\\bisman dhillon\\anaconda3\\lib\\site-packages (from notebook) (2.11.3)\n",
      "Requirement already satisfied: traitlets>=4.2.1 in c:\\users\\bisman dhillon\\anaconda3\\lib\\site-packages (from notebook) (5.1.1)\n",
      "Requirement already satisfied: nbconvert in c:\\users\\bisman dhillon\\anaconda3\\lib\\site-packages (from notebook) (6.4.4)\n",
      "Requirement already satisfied: tornado>=6.1 in c:\\users\\bisman dhillon\\anaconda3\\lib\\site-packages (from notebook) (6.1)\n",
      "Requirement already satisfied: ipython-genutils in c:\\users\\bisman dhillon\\anaconda3\\lib\\site-packages (from notebook) (0.2.0)\n",
      "Requirement already satisfied: ipykernel in c:\\users\\bisman dhillon\\anaconda3\\lib\\site-packages (from notebook) (6.9.1)\n",
      "Requirement already satisfied: Send2Trash>=1.8.0 in c:\\users\\bisman dhillon\\anaconda3\\lib\\site-packages (from notebook) (1.8.0)\n",
      "Requirement already satisfied: nest-asyncio>=1.5 in c:\\users\\bisman dhillon\\anaconda3\\lib\\site-packages (from notebook) (1.5.5)\n",
      "Requirement already satisfied: jupyter-core>=4.6.1 in c:\\users\\bisman dhillon\\anaconda3\\lib\\site-packages (from notebook) (4.9.2)\n",
      "Requirement already satisfied: pywin32>=1.0 in c:\\users\\bisman dhillon\\anaconda3\\lib\\site-packages (from jupyter-core>=4.6.1->notebook) (302)\n",
      "Requirement already satisfied: six>=1.5 in c:\\users\\bisman dhillon\\anaconda3\\lib\\site-packages (from python-dateutil>=2.8.1->pandas) (1.16.0)\n",
      "Requirement already satisfied: pywinpty>=1.1.0 in c:\\users\\bisman dhillon\\anaconda3\\lib\\site-packages (from terminado>=0.8.3->notebook) (2.0.2)\n",
      "Requirement already satisfied: argon2-cffi-bindings in c:\\users\\bisman dhillon\\anaconda3\\lib\\site-packages (from argon2-cffi->notebook) (21.2.0)\n",
      "Requirement already satisfied: cffi>=1.0.1 in c:\\users\\bisman dhillon\\anaconda3\\lib\\site-packages (from argon2-cffi-bindings->argon2-cffi->notebook) (1.15.0)\n",
      "Requirement already satisfied: pycparser in c:\\users\\bisman dhillon\\anaconda3\\lib\\site-packages (from cffi>=1.0.1->argon2-cffi-bindings->argon2-cffi->notebook) (2.21)\n",
      "Requirement already satisfied: ipython>=7.23.1 in c:\\users\\bisman dhillon\\anaconda3\\lib\\site-packages (from ipykernel->notebook) (8.2.0)\n",
      "Requirement already satisfied: debugpy<2.0,>=1.0.0 in c:\\users\\bisman dhillon\\anaconda3\\lib\\site-packages (from ipykernel->notebook) (1.5.1)\n",
      "Requirement already satisfied: matplotlib-inline<0.2.0,>=0.1.0 in c:\\users\\bisman dhillon\\anaconda3\\lib\\site-packages (from ipykernel->notebook) (0.1.2)\n",
      "Requirement already satisfied: pygments>=2.4.0 in c:\\users\\bisman dhillon\\anaconda3\\lib\\site-packages (from ipython>=7.23.1->ipykernel->notebook) (2.11.2)\n",
      "Requirement already satisfied: decorator in c:\\users\\bisman dhillon\\anaconda3\\lib\\site-packages (from ipython>=7.23.1->ipykernel->notebook) (5.1.1)\n",
      "Requirement already satisfied: jedi>=0.16 in c:\\users\\bisman dhillon\\anaconda3\\lib\\site-packages (from ipython>=7.23.1->ipykernel->notebook) (0.18.1)\n",
      "Requirement already satisfied: backcall in c:\\users\\bisman dhillon\\anaconda3\\lib\\site-packages (from ipython>=7.23.1->ipykernel->notebook) (0.2.0)\n",
      "Requirement already satisfied: prompt-toolkit!=3.0.0,!=3.0.1,<3.1.0,>=2.0.0 in c:\\users\\bisman dhillon\\anaconda3\\lib\\site-packages (from ipython>=7.23.1->ipykernel->notebook) (3.0.20)\n",
      "Requirement already satisfied: stack-data in c:\\users\\bisman dhillon\\anaconda3\\lib\\site-packages (from ipython>=7.23.1->ipykernel->notebook) (0.2.0)\n",
      "Requirement already satisfied: setuptools>=18.5 in c:\\users\\bisman dhillon\\anaconda3\\lib\\site-packages (from ipython>=7.23.1->ipykernel->notebook) (61.2.0)\n",
      "Requirement already satisfied: colorama in c:\\users\\bisman dhillon\\anaconda3\\lib\\site-packages (from ipython>=7.23.1->ipykernel->notebook) (0.4.4)\n",
      "Requirement already satisfied: pickleshare in c:\\users\\bisman dhillon\\anaconda3\\lib\\site-packages (from ipython>=7.23.1->ipykernel->notebook) (0.7.5)\n",
      "Requirement already satisfied: parso<0.9.0,>=0.8.0 in c:\\users\\bisman dhillon\\anaconda3\\lib\\site-packages (from jedi>=0.16->ipython>=7.23.1->ipykernel->notebook) (0.8.3)\n",
      "Requirement already satisfied: wcwidth in c:\\users\\bisman dhillon\\anaconda3\\lib\\site-packages (from prompt-toolkit!=3.0.0,!=3.0.1,<3.1.0,>=2.0.0->ipython>=7.23.1->ipykernel->notebook) (0.2.5)\n",
      "Requirement already satisfied: MarkupSafe>=0.23 in c:\\users\\bisman dhillon\\anaconda3\\lib\\site-packages (from jinja2->notebook) (2.0.1)\n",
      "Requirement already satisfied: mistune<2,>=0.8.1 in c:\\users\\bisman dhillon\\anaconda3\\lib\\site-packages (from nbconvert->notebook) (0.8.4)\n",
      "Requirement already satisfied: defusedxml in c:\\users\\bisman dhillon\\anaconda3\\lib\\site-packages (from nbconvert->notebook) (0.7.1)\n",
      "Requirement already satisfied: entrypoints>=0.2.2 in c:\\users\\bisman dhillon\\anaconda3\\lib\\site-packages (from nbconvert->notebook) (0.4)\n",
      "Requirement already satisfied: beautifulsoup4 in c:\\users\\bisman dhillon\\anaconda3\\lib\\site-packages (from nbconvert->notebook) (4.11.1)\n",
      "Requirement already satisfied: testpath in c:\\users\\bisman dhillon\\anaconda3\\lib\\site-packages (from nbconvert->notebook) (0.5.0)\n",
      "Requirement already satisfied: bleach in c:\\users\\bisman dhillon\\anaconda3\\lib\\site-packages (from nbconvert->notebook) (4.1.0)\n",
      "Requirement already satisfied: pandocfilters>=1.4.1 in c:\\users\\bisman dhillon\\anaconda3\\lib\\site-packages (from nbconvert->notebook) (1.5.0)\n",
      "Requirement already satisfied: nbclient<0.6.0,>=0.5.0 in c:\\users\\bisman dhillon\\anaconda3\\lib\\site-packages (from nbconvert->notebook) (0.5.13)\n",
      "Requirement already satisfied: jupyterlab-pygments in c:\\users\\bisman dhillon\\anaconda3\\lib\\site-packages (from nbconvert->notebook) (0.1.2)\n",
      "Requirement already satisfied: fastjsonschema in c:\\users\\bisman dhillon\\anaconda3\\lib\\site-packages (from nbformat->notebook) (2.15.1)\n",
      "Requirement already satisfied: jsonschema>=2.6 in c:\\users\\bisman dhillon\\anaconda3\\lib\\site-packages (from nbformat->notebook) (4.4.0)\n",
      "Requirement already satisfied: attrs>=17.4.0 in c:\\users\\bisman dhillon\\anaconda3\\lib\\site-packages (from jsonschema>=2.6->nbformat->notebook) (21.4.0)\n",
      "Requirement already satisfied: pyrsistent!=0.17.0,!=0.17.1,!=0.17.2,>=0.14.0 in c:\\users\\bisman dhillon\\anaconda3\\lib\\site-packages (from jsonschema>=2.6->nbformat->notebook) (0.18.0)\n",
      "Requirement already satisfied: soupsieve>1.2 in c:\\users\\bisman dhillon\\anaconda3\\lib\\site-packages (from beautifulsoup4->nbconvert->notebook) (2.3.1)\n",
      "Requirement already satisfied: webencodings in c:\\users\\bisman dhillon\\anaconda3\\lib\\site-packages (from bleach->nbconvert->notebook) (0.5.1)\n",
      "Requirement already satisfied: executing in c:\\users\\bisman dhillon\\anaconda3\\lib\\site-packages (from stack-data->ipython>=7.23.1->ipykernel->notebook) (0.8.3)\n",
      "Requirement already satisfied: asttokens in c:\\users\\bisman dhillon\\anaconda3\\lib\\site-packages (from stack-data->ipython>=7.23.1->ipykernel->notebook) (2.0.5)\n",
      "Requirement already satisfied: pure-eval in c:\\users\\bisman dhillon\\anaconda3\\lib\\site-packages (from stack-data->ipython>=7.23.1->ipykernel->notebook) (0.2.2)\n"
     ]
    }
   ],
   "source": [
    "pip install pandas numpy matplotlib scikit-learn notebook\n"
   ]
  },
  {
   "cell_type": "code",
   "execution_count": 10,
   "id": "37dc65f5",
   "metadata": {},
   "outputs": [
    {
     "name": "stdout",
     "output_type": "stream",
     "text": [
      "Collecting yfinance\n",
      "  Using cached yfinance-0.2.51-py2.py3-none-any.whl (104 kB)\n",
      "Requirement already satisfied: numpy>=1.16.5 in c:\\users\\bisman dhillon\\anaconda3\\lib\\site-packages (from yfinance) (1.21.5)\n",
      "Requirement already satisfied: pytz>=2022.5 in c:\\users\\bisman dhillon\\anaconda3\\lib\\site-packages (from yfinance) (2024.2)\n",
      "Requirement already satisfied: pandas>=1.3.0 in c:\\users\\bisman dhillon\\anaconda3\\lib\\site-packages (from yfinance) (1.4.2)\n",
      "Requirement already satisfied: requests>=2.31 in c:\\users\\bisman dhillon\\anaconda3\\lib\\site-packages (from yfinance) (2.32.3)\n",
      "Requirement already satisfied: lxml>=4.9.1 in c:\\users\\bisman dhillon\\anaconda3\\lib\\site-packages (from yfinance) (5.3.0)\n",
      "Collecting frozendict>=2.3.4\n",
      "  Using cached frozendict-2.4.6-cp39-cp39-win_amd64.whl (37 kB)\n",
      "Requirement already satisfied: beautifulsoup4>=4.11.1 in c:\\users\\bisman dhillon\\anaconda3\\lib\\site-packages (from yfinance) (4.11.1)\n",
      "Requirement already satisfied: multitasking>=0.0.7 in c:\\users\\bisman dhillon\\anaconda3\\lib\\site-packages (from yfinance) (0.0.11)\n",
      "Collecting html5lib>=1.1\n",
      "  Using cached html5lib-1.1-py2.py3-none-any.whl (112 kB)\n",
      "Requirement already satisfied: platformdirs>=2.0.0 in c:\\users\\bisman dhillon\\anaconda3\\lib\\site-packages (from yfinance) (4.3.6)\n",
      "Requirement already satisfied: peewee>=3.16.2 in c:\\users\\bisman dhillon\\anaconda3\\lib\\site-packages (from yfinance) (3.17.8)\n",
      "Requirement already satisfied: soupsieve>1.2 in c:\\users\\bisman dhillon\\anaconda3\\lib\\site-packages (from beautifulsoup4>=4.11.1->yfinance) (2.3.1)\n",
      "Requirement already satisfied: webencodings in c:\\users\\bisman dhillon\\anaconda3\\lib\\site-packages (from html5lib>=1.1->yfinance) (0.5.1)\n",
      "Requirement already satisfied: six>=1.9 in c:\\users\\bisman dhillon\\anaconda3\\lib\\site-packages (from html5lib>=1.1->yfinance) (1.16.0)\n",
      "Requirement already satisfied: python-dateutil>=2.8.1 in c:\\users\\bisman dhillon\\anaconda3\\lib\\site-packages (from pandas>=1.3.0->yfinance) (2.8.2)\n",
      "Requirement already satisfied: certifi>=2017.4.17 in c:\\users\\bisman dhillon\\anaconda3\\lib\\site-packages (from requests>=2.31->yfinance) (2021.10.8)\n",
      "Requirement already satisfied: urllib3<3,>=1.21.1 in c:\\users\\bisman dhillon\\anaconda3\\lib\\site-packages (from requests>=2.31->yfinance) (1.26.9)\n",
      "Requirement already satisfied: charset-normalizer<4,>=2 in c:\\users\\bisman dhillon\\anaconda3\\lib\\site-packages (from requests>=2.31->yfinance) (2.0.4)\n",
      "Requirement already satisfied: idna<4,>=2.5 in c:\\users\\bisman dhillon\\anaconda3\\lib\\site-packages (from requests>=2.31->yfinance) (3.3)\n",
      "Installing collected packages: html5lib, frozendict, yfinance\n",
      "Successfully installed frozendict-2.4.6 html5lib-1.1 yfinance-0.2.51\n",
      "Note: you may need to restart the kernel to use updated packages.\n"
     ]
    }
   ],
   "source": [
    "pip install yfinance\n"
   ]
  },
  {
   "cell_type": "code",
   "execution_count": 1,
   "id": "709bdb58",
   "metadata": {},
   "outputs": [],
   "source": [
    "import yfinance as yf\n",
    "import pandas as pd\n",
    "import os"
   ]
  },
  {
   "cell_type": "code",
   "execution_count": 2,
   "id": "c63a75c0",
   "metadata": {},
   "outputs": [],
   "source": [
    "if os.path.exists(\"sp500.csv\"):\n",
    "    sp500 = pd.read_csv(\"sp500.csv\", index_col=0)\n",
    "else:\n",
    "    sp500 = yf.Ticker(\"^GSPC\")\n",
    "    sp500 = sp500.history(period=\"max\")\n",
    "    sp500.to_csv(\"sp500.csv\")"
   ]
  },
  {
   "cell_type": "code",
   "execution_count": 3,
   "id": "2d7eb9b2",
   "metadata": {},
   "outputs": [],
   "source": [
    "sp500.index = pd.to_datetime(sp500.index)"
   ]
  },
  {
   "cell_type": "code",
   "execution_count": 4,
   "id": "073801cf",
   "metadata": {},
   "outputs": [
    {
     "data": {
      "text/html": [
       "<div>\n",
       "<style scoped>\n",
       "    .dataframe tbody tr th:only-of-type {\n",
       "        vertical-align: middle;\n",
       "    }\n",
       "\n",
       "    .dataframe tbody tr th {\n",
       "        vertical-align: top;\n",
       "    }\n",
       "\n",
       "    .dataframe thead th {\n",
       "        text-align: right;\n",
       "    }\n",
       "</style>\n",
       "<table border=\"1\" class=\"dataframe\">\n",
       "  <thead>\n",
       "    <tr style=\"text-align: right;\">\n",
       "      <th></th>\n",
       "      <th>Open</th>\n",
       "      <th>High</th>\n",
       "      <th>Low</th>\n",
       "      <th>Close</th>\n",
       "      <th>Volume</th>\n",
       "      <th>Dividends</th>\n",
       "      <th>Stock Splits</th>\n",
       "    </tr>\n",
       "    <tr>\n",
       "      <th>Date</th>\n",
       "      <th></th>\n",
       "      <th></th>\n",
       "      <th></th>\n",
       "      <th></th>\n",
       "      <th></th>\n",
       "      <th></th>\n",
       "      <th></th>\n",
       "    </tr>\n",
       "  </thead>\n",
       "  <tbody>\n",
       "    <tr>\n",
       "      <th>1927-12-30 00:00:00-05:00</th>\n",
       "      <td>17.660000</td>\n",
       "      <td>17.660000</td>\n",
       "      <td>17.660000</td>\n",
       "      <td>17.660000</td>\n",
       "      <td>0</td>\n",
       "      <td>0.0</td>\n",
       "      <td>0.0</td>\n",
       "    </tr>\n",
       "    <tr>\n",
       "      <th>1928-01-03 00:00:00-05:00</th>\n",
       "      <td>17.760000</td>\n",
       "      <td>17.760000</td>\n",
       "      <td>17.760000</td>\n",
       "      <td>17.760000</td>\n",
       "      <td>0</td>\n",
       "      <td>0.0</td>\n",
       "      <td>0.0</td>\n",
       "    </tr>\n",
       "    <tr>\n",
       "      <th>1928-01-04 00:00:00-05:00</th>\n",
       "      <td>17.719999</td>\n",
       "      <td>17.719999</td>\n",
       "      <td>17.719999</td>\n",
       "      <td>17.719999</td>\n",
       "      <td>0</td>\n",
       "      <td>0.0</td>\n",
       "      <td>0.0</td>\n",
       "    </tr>\n",
       "    <tr>\n",
       "      <th>1928-01-05 00:00:00-05:00</th>\n",
       "      <td>17.549999</td>\n",
       "      <td>17.549999</td>\n",
       "      <td>17.549999</td>\n",
       "      <td>17.549999</td>\n",
       "      <td>0</td>\n",
       "      <td>0.0</td>\n",
       "      <td>0.0</td>\n",
       "    </tr>\n",
       "    <tr>\n",
       "      <th>1928-01-06 00:00:00-05:00</th>\n",
       "      <td>17.660000</td>\n",
       "      <td>17.660000</td>\n",
       "      <td>17.660000</td>\n",
       "      <td>17.660000</td>\n",
       "      <td>0</td>\n",
       "      <td>0.0</td>\n",
       "      <td>0.0</td>\n",
       "    </tr>\n",
       "    <tr>\n",
       "      <th>...</th>\n",
       "      <td>...</td>\n",
       "      <td>...</td>\n",
       "      <td>...</td>\n",
       "      <td>...</td>\n",
       "      <td>...</td>\n",
       "      <td>...</td>\n",
       "      <td>...</td>\n",
       "    </tr>\n",
       "    <tr>\n",
       "      <th>2025-01-07 00:00:00-05:00</th>\n",
       "      <td>5993.259766</td>\n",
       "      <td>6000.680176</td>\n",
       "      <td>5890.680176</td>\n",
       "      <td>5909.029785</td>\n",
       "      <td>4517330000</td>\n",
       "      <td>0.0</td>\n",
       "      <td>0.0</td>\n",
       "    </tr>\n",
       "    <tr>\n",
       "      <th>2025-01-08 00:00:00-05:00</th>\n",
       "      <td>5910.660156</td>\n",
       "      <td>5927.890137</td>\n",
       "      <td>5874.779785</td>\n",
       "      <td>5918.250000</td>\n",
       "      <td>4441740000</td>\n",
       "      <td>0.0</td>\n",
       "      <td>0.0</td>\n",
       "    </tr>\n",
       "    <tr>\n",
       "      <th>2025-01-10 00:00:00-05:00</th>\n",
       "      <td>5890.350098</td>\n",
       "      <td>5890.350098</td>\n",
       "      <td>5807.779785</td>\n",
       "      <td>5827.040039</td>\n",
       "      <td>4751930000</td>\n",
       "      <td>0.0</td>\n",
       "      <td>0.0</td>\n",
       "    </tr>\n",
       "    <tr>\n",
       "      <th>2025-01-13 00:00:00-05:00</th>\n",
       "      <td>5782.020020</td>\n",
       "      <td>5838.609863</td>\n",
       "      <td>5773.310059</td>\n",
       "      <td>5836.220215</td>\n",
       "      <td>4421200000</td>\n",
       "      <td>0.0</td>\n",
       "      <td>0.0</td>\n",
       "    </tr>\n",
       "    <tr>\n",
       "      <th>2025-01-14 00:00:00-05:00</th>\n",
       "      <td>5859.270020</td>\n",
       "      <td>5871.919922</td>\n",
       "      <td>5805.419922</td>\n",
       "      <td>5842.910156</td>\n",
       "      <td>4142280000</td>\n",
       "      <td>0.0</td>\n",
       "      <td>0.0</td>\n",
       "    </tr>\n",
       "  </tbody>\n",
       "</table>\n",
       "<p>24375 rows × 7 columns</p>\n",
       "</div>"
      ],
      "text/plain": [
       "                                  Open         High          Low        Close  \\\n",
       "Date                                                                            \n",
       "1927-12-30 00:00:00-05:00    17.660000    17.660000    17.660000    17.660000   \n",
       "1928-01-03 00:00:00-05:00    17.760000    17.760000    17.760000    17.760000   \n",
       "1928-01-04 00:00:00-05:00    17.719999    17.719999    17.719999    17.719999   \n",
       "1928-01-05 00:00:00-05:00    17.549999    17.549999    17.549999    17.549999   \n",
       "1928-01-06 00:00:00-05:00    17.660000    17.660000    17.660000    17.660000   \n",
       "...                                ...          ...          ...          ...   \n",
       "2025-01-07 00:00:00-05:00  5993.259766  6000.680176  5890.680176  5909.029785   \n",
       "2025-01-08 00:00:00-05:00  5910.660156  5927.890137  5874.779785  5918.250000   \n",
       "2025-01-10 00:00:00-05:00  5890.350098  5890.350098  5807.779785  5827.040039   \n",
       "2025-01-13 00:00:00-05:00  5782.020020  5838.609863  5773.310059  5836.220215   \n",
       "2025-01-14 00:00:00-05:00  5859.270020  5871.919922  5805.419922  5842.910156   \n",
       "\n",
       "                               Volume  Dividends  Stock Splits  \n",
       "Date                                                            \n",
       "1927-12-30 00:00:00-05:00           0        0.0           0.0  \n",
       "1928-01-03 00:00:00-05:00           0        0.0           0.0  \n",
       "1928-01-04 00:00:00-05:00           0        0.0           0.0  \n",
       "1928-01-05 00:00:00-05:00           0        0.0           0.0  \n",
       "1928-01-06 00:00:00-05:00           0        0.0           0.0  \n",
       "...                               ...        ...           ...  \n",
       "2025-01-07 00:00:00-05:00  4517330000        0.0           0.0  \n",
       "2025-01-08 00:00:00-05:00  4441740000        0.0           0.0  \n",
       "2025-01-10 00:00:00-05:00  4751930000        0.0           0.0  \n",
       "2025-01-13 00:00:00-05:00  4421200000        0.0           0.0  \n",
       "2025-01-14 00:00:00-05:00  4142280000        0.0           0.0  \n",
       "\n",
       "[24375 rows x 7 columns]"
      ]
     },
     "execution_count": 4,
     "metadata": {},
     "output_type": "execute_result"
    }
   ],
   "source": [
    "sp500"
   ]
  },
  {
   "cell_type": "code",
   "execution_count": 5,
   "id": "bfeaf2e6",
   "metadata": {},
   "outputs": [
    {
     "data": {
      "text/plain": [
       "<AxesSubplot:xlabel='Date'>"
      ]
     },
     "execution_count": 5,
     "metadata": {},
     "output_type": "execute_result"
    },
    {
     "data": {
      "image/png": "[encoded data removed]",
      "text/plain": [
       "<Figure size 432x288 with 1 Axes>"
      ]
     },
     "metadata": {
      "needs_background": "light"
     },
     "output_type": "display_data"
    }
   ],
   "source": [
    "sp500.plot.line(y=\"Close\", use_index=True)"
   ]
  },
  {
   "cell_type": "code",
   "execution_count": 6,
   "id": "698e2071",
   "metadata": {},
   "outputs": [],
   "source": [
    "del sp500[\"Dividends\"]\n",
    "del sp500[\"Stock Splits\"]"
   ]
  },
  {
   "cell_type": "code",
   "execution_count": 7,
   "id": "407e0334",
   "metadata": {},
   "outputs": [],
   "source": [
    "sp500[\"Tomorrow\"] = sp500[\"Close\"].shift(-1)"
   ]
  },
  {
   "cell_type": "code",
   "execution_count": 8,
   "id": "c5d05c77",
   "metadata": {},
   "outputs": [],
   "source": [
    "sp500[\"Target\"] = (sp500[\"Tomorrow\"] > sp500[\"Close\"]).astype(int)"
   ]
  },
  {
   "cell_type": "code",
   "execution_count": 9,
   "id": "f74ae95e",
   "metadata": {},
   "outputs": [
    {
     "ename": "TypeError",
     "evalue": "'<' not supported between instances of 'datetime.datetime' and 'str'",
     "output_type": "error",
     "traceback": [
      "\u001b[1;31m---------------------------------------------------------------------------\u001b[0m",
      "\u001b[1;31mKeyError\u001b[0m                                  Traceback (most recent call last)",
      "File \u001b[1;32m~\\anaconda3\\lib\\site-packages\\pandas\\core\\indexes\\base.py:3621\u001b[0m, in \u001b[0;36mIndex.get_loc\u001b[1;34m(self, key, method, tolerance)\u001b[0m\n\u001b[0;32m   3620\u001b[0m \u001b[38;5;28;01mtry\u001b[39;00m:\n\u001b[1;32m-> 3621\u001b[0m     \u001b[38;5;28;01mreturn\u001b[39;00m \u001b[38;5;28;43mself\u001b[39;49m\u001b[38;5;241;43m.\u001b[39;49m\u001b[43m_engine\u001b[49m\u001b[38;5;241;43m.\u001b[39;49m\u001b[43mget_loc\u001b[49m\u001b[43m(\u001b[49m\u001b[43mcasted_key\u001b[49m\u001b[43m)\u001b[49m\n\u001b[0;32m   3622\u001b[0m \u001b[38;5;28;01mexcept\u001b[39;00m \u001b[38;5;167;01mKeyError\u001b[39;00m \u001b[38;5;28;01mas\u001b[39;00m err:\n",
      "File \u001b[1;32m~\\anaconda3\\lib\\site-packages\\pandas\\_libs\\index.pyx:136\u001b[0m, in \u001b[0;36mpandas._libs.index.IndexEngine.get_loc\u001b[1;34m()\u001b[0m\n",
      "File \u001b[1;32m~\\anaconda3\\lib\\site-packages\\pandas\\_libs\\index.pyx:163\u001b[0m, in \u001b[0;36mpandas._libs.index.IndexEngine.get_loc\u001b[1;34m()\u001b[0m\n",
      "File \u001b[1;32mpandas\\_libs\\hashtable_class_helper.pxi:5198\u001b[0m, in \u001b[0;36mpandas._libs.hashtable.PyObjectHashTable.get_item\u001b[1;34m()\u001b[0m\n",
      "File \u001b[1;32mpandas\\_libs\\hashtable_class_helper.pxi:5206\u001b[0m, in \u001b[0;36mpandas._libs.hashtable.PyObjectHashTable.get_item\u001b[1;34m()\u001b[0m\n",
      "\u001b[1;31mKeyError\u001b[0m: '1990-01-01'",
      "\nThe above exception was the direct cause of the following exception:\n",
      "\u001b[1;31mKeyError\u001b[0m                                  Traceback (most recent call last)",
      "File \u001b[1;32m~\\anaconda3\\lib\\site-packages\\pandas\\core\\indexes\\base.py:6397\u001b[0m, in \u001b[0;36mIndex.get_slice_bound\u001b[1;34m(self, label, side, kind)\u001b[0m\n\u001b[0;32m   6396\u001b[0m \u001b[38;5;28;01mtry\u001b[39;00m:\n\u001b[1;32m-> 6397\u001b[0m     slc \u001b[38;5;241m=\u001b[39m \u001b[38;5;28;43mself\u001b[39;49m\u001b[38;5;241;43m.\u001b[39;49m\u001b[43mget_loc\u001b[49m\u001b[43m(\u001b[49m\u001b[43mlabel\u001b[49m\u001b[43m)\u001b[49m\n\u001b[0;32m   6398\u001b[0m \u001b[38;5;28;01mexcept\u001b[39;00m \u001b[38;5;167;01mKeyError\u001b[39;00m \u001b[38;5;28;01mas\u001b[39;00m err:\n",
      "File \u001b[1;32m~\\anaconda3\\lib\\site-packages\\pandas\\core\\indexes\\base.py:3623\u001b[0m, in \u001b[0;36mIndex.get_loc\u001b[1;34m(self, key, method, tolerance)\u001b[0m\n\u001b[0;32m   3622\u001b[0m \u001b[38;5;28;01mexcept\u001b[39;00m \u001b[38;5;167;01mKeyError\u001b[39;00m \u001b[38;5;28;01mas\u001b[39;00m err:\n\u001b[1;32m-> 3623\u001b[0m     \u001b[38;5;28;01mraise\u001b[39;00m \u001b[38;5;167;01mKeyError\u001b[39;00m(key) \u001b[38;5;28;01mfrom\u001b[39;00m \u001b[38;5;21;01merr\u001b[39;00m\n\u001b[0;32m   3624\u001b[0m \u001b[38;5;28;01mexcept\u001b[39;00m \u001b[38;5;167;01mTypeError\u001b[39;00m:\n\u001b[0;32m   3625\u001b[0m     \u001b[38;5;66;03m# If we have a listlike key, _check_indexing_error will raise\u001b[39;00m\n\u001b[0;32m   3626\u001b[0m     \u001b[38;5;66;03m#  InvalidIndexError. Otherwise we fall through and re-raise\u001b[39;00m\n\u001b[0;32m   3627\u001b[0m     \u001b[38;5;66;03m#  the TypeError.\u001b[39;00m\n",
      "\u001b[1;31mKeyError\u001b[0m: '1990-01-01'",
      "\nDuring handling of the above exception, another exception occurred:\n",
      "\u001b[1;31mTypeError\u001b[0m                                 Traceback (most recent call last)",
      "Input \u001b[1;32mIn [9]\u001b[0m, in \u001b[0;36m<cell line: 1>\u001b[1;34m()\u001b[0m\n\u001b[1;32m----> 1\u001b[0m sp500 \u001b[38;5;241m=\u001b[39m \u001b[43msp500\u001b[49m\u001b[38;5;241;43m.\u001b[39;49m\u001b[43mloc\u001b[49m\u001b[43m[\u001b[49m\u001b[38;5;124;43m\"\u001b[39;49m\u001b[38;5;124;43m1990-01-01\u001b[39;49m\u001b[38;5;124;43m\"\u001b[39;49m\u001b[43m:\u001b[49m\u001b[43m]\u001b[49m\u001b[38;5;241m.\u001b[39mcopy()\n",
      "File \u001b[1;32m~\\anaconda3\\lib\\site-packages\\pandas\\core\\indexing.py:967\u001b[0m, in \u001b[0;36m_LocationIndexer.__getitem__\u001b[1;34m(self, key)\u001b[0m\n\u001b[0;32m    964\u001b[0m axis \u001b[38;5;241m=\u001b[39m \u001b[38;5;28mself\u001b[39m\u001b[38;5;241m.\u001b[39maxis \u001b[38;5;129;01mor\u001b[39;00m \u001b[38;5;241m0\u001b[39m\n\u001b[0;32m    966\u001b[0m maybe_callable \u001b[38;5;241m=\u001b[39m com\u001b[38;5;241m.\u001b[39mapply_if_callable(key, \u001b[38;5;28mself\u001b[39m\u001b[38;5;241m.\u001b[39mobj)\n\u001b[1;32m--> 967\u001b[0m \u001b[38;5;28;01mreturn\u001b[39;00m \u001b[38;5;28;43mself\u001b[39;49m\u001b[38;5;241;43m.\u001b[39;49m\u001b[43m_getitem_axis\u001b[49m\u001b[43m(\u001b[49m\u001b[43mmaybe_callable\u001b[49m\u001b[43m,\u001b[49m\u001b[43m \u001b[49m\u001b[43maxis\u001b[49m\u001b[38;5;241;43m=\u001b[39;49m\u001b[43maxis\u001b[49m\u001b[43m)\u001b[49m\n",
      "File \u001b[1;32m~\\anaconda3\\lib\\site-packages\\pandas\\core\\indexing.py:1180\u001b[0m, in \u001b[0;36m_LocIndexer._getitem_axis\u001b[1;34m(self, key, axis)\u001b[0m\n\u001b[0;32m   1178\u001b[0m \u001b[38;5;28;01mif\u001b[39;00m \u001b[38;5;28misinstance\u001b[39m(key, \u001b[38;5;28mslice\u001b[39m):\n\u001b[0;32m   1179\u001b[0m     \u001b[38;5;28mself\u001b[39m\u001b[38;5;241m.\u001b[39m_validate_key(key, axis)\n\u001b[1;32m-> 1180\u001b[0m     \u001b[38;5;28;01mreturn\u001b[39;00m \u001b[38;5;28;43mself\u001b[39;49m\u001b[38;5;241;43m.\u001b[39;49m\u001b[43m_get_slice_axis\u001b[49m\u001b[43m(\u001b[49m\u001b[43mkey\u001b[49m\u001b[43m,\u001b[49m\u001b[43m \u001b[49m\u001b[43maxis\u001b[49m\u001b[38;5;241;43m=\u001b[39;49m\u001b[43maxis\u001b[49m\u001b[43m)\u001b[49m\n\u001b[0;32m   1181\u001b[0m \u001b[38;5;28;01melif\u001b[39;00m com\u001b[38;5;241m.\u001b[39mis_bool_indexer(key):\n\u001b[0;32m   1182\u001b[0m     \u001b[38;5;28;01mreturn\u001b[39;00m \u001b[38;5;28mself\u001b[39m\u001b[38;5;241m.\u001b[39m_getbool_axis(key, axis\u001b[38;5;241m=\u001b[39maxis)\n",
      "File \u001b[1;32m~\\anaconda3\\lib\\site-packages\\pandas\\core\\indexing.py:1214\u001b[0m, in \u001b[0;36m_LocIndexer._get_slice_axis\u001b[1;34m(self, slice_obj, axis)\u001b[0m\n\u001b[0;32m   1211\u001b[0m     \u001b[38;5;28;01mreturn\u001b[39;00m obj\u001b[38;5;241m.\u001b[39mcopy(deep\u001b[38;5;241m=\u001b[39m\u001b[38;5;28;01mFalse\u001b[39;00m)\n\u001b[0;32m   1213\u001b[0m labels \u001b[38;5;241m=\u001b[39m obj\u001b[38;5;241m.\u001b[39m_get_axis(axis)\n\u001b[1;32m-> 1214\u001b[0m indexer \u001b[38;5;241m=\u001b[39m \u001b[43mlabels\u001b[49m\u001b[38;5;241;43m.\u001b[39;49m\u001b[43mslice_indexer\u001b[49m\u001b[43m(\u001b[49m\u001b[43mslice_obj\u001b[49m\u001b[38;5;241;43m.\u001b[39;49m\u001b[43mstart\u001b[49m\u001b[43m,\u001b[49m\u001b[43m \u001b[49m\u001b[43mslice_obj\u001b[49m\u001b[38;5;241;43m.\u001b[39;49m\u001b[43mstop\u001b[49m\u001b[43m,\u001b[49m\u001b[43m \u001b[49m\u001b[43mslice_obj\u001b[49m\u001b[38;5;241;43m.\u001b[39;49m\u001b[43mstep\u001b[49m\u001b[43m)\u001b[49m\n\u001b[0;32m   1216\u001b[0m \u001b[38;5;28;01mif\u001b[39;00m \u001b[38;5;28misinstance\u001b[39m(indexer, \u001b[38;5;28mslice\u001b[39m):\n\u001b[0;32m   1217\u001b[0m     \u001b[38;5;28;01mreturn\u001b[39;00m \u001b[38;5;28mself\u001b[39m\u001b[38;5;241m.\u001b[39mobj\u001b[38;5;241m.\u001b[39m_slice(indexer, axis\u001b[38;5;241m=\u001b[39maxis)\n",
      "File \u001b[1;32m~\\anaconda3\\lib\\site-packages\\pandas\\core\\indexes\\base.py:6274\u001b[0m, in \u001b[0;36mIndex.slice_indexer\u001b[1;34m(self, start, end, step, kind)\u001b[0m\n\u001b[0;32m   6231\u001b[0m \u001b[38;5;124;03m\"\"\"\u001b[39;00m\n\u001b[0;32m   6232\u001b[0m \u001b[38;5;124;03mCompute the slice indexer for input labels and step.\u001b[39;00m\n\u001b[0;32m   6233\u001b[0m \n\u001b[1;32m   (...)\u001b[0m\n\u001b[0;32m   6270\u001b[0m \u001b[38;5;124;03mslice(1, 3, None)\u001b[39;00m\n\u001b[0;32m   6271\u001b[0m \u001b[38;5;124;03m\"\"\"\u001b[39;00m\n\u001b[0;32m   6272\u001b[0m \u001b[38;5;28mself\u001b[39m\u001b[38;5;241m.\u001b[39m_deprecated_arg(kind, \u001b[38;5;124m\"\u001b[39m\u001b[38;5;124mkind\u001b[39m\u001b[38;5;124m\"\u001b[39m, \u001b[38;5;124m\"\u001b[39m\u001b[38;5;124mslice_indexer\u001b[39m\u001b[38;5;124m\"\u001b[39m)\n\u001b[1;32m-> 6274\u001b[0m start_slice, end_slice \u001b[38;5;241m=\u001b[39m \u001b[38;5;28;43mself\u001b[39;49m\u001b[38;5;241;43m.\u001b[39;49m\u001b[43mslice_locs\u001b[49m\u001b[43m(\u001b[49m\u001b[43mstart\u001b[49m\u001b[43m,\u001b[49m\u001b[43m \u001b[49m\u001b[43mend\u001b[49m\u001b[43m,\u001b[49m\u001b[43m \u001b[49m\u001b[43mstep\u001b[49m\u001b[38;5;241;43m=\u001b[39;49m\u001b[43mstep\u001b[49m\u001b[43m)\u001b[49m\n\u001b[0;32m   6276\u001b[0m \u001b[38;5;66;03m# return a slice\u001b[39;00m\n\u001b[0;32m   6277\u001b[0m \u001b[38;5;28;01mif\u001b[39;00m \u001b[38;5;129;01mnot\u001b[39;00m is_scalar(start_slice):\n",
      "File \u001b[1;32m~\\anaconda3\\lib\\site-packages\\pandas\\core\\indexes\\base.py:6484\u001b[0m, in \u001b[0;36mIndex.slice_locs\u001b[1;34m(self, start, end, step, kind)\u001b[0m\n\u001b[0;32m   6482\u001b[0m start_slice \u001b[38;5;241m=\u001b[39m \u001b[38;5;28;01mNone\u001b[39;00m\n\u001b[0;32m   6483\u001b[0m \u001b[38;5;28;01mif\u001b[39;00m start \u001b[38;5;129;01mis\u001b[39;00m \u001b[38;5;129;01mnot\u001b[39;00m \u001b[38;5;28;01mNone\u001b[39;00m:\n\u001b[1;32m-> 6484\u001b[0m     start_slice \u001b[38;5;241m=\u001b[39m \u001b[38;5;28;43mself\u001b[39;49m\u001b[38;5;241;43m.\u001b[39;49m\u001b[43mget_slice_bound\u001b[49m\u001b[43m(\u001b[49m\u001b[43mstart\u001b[49m\u001b[43m,\u001b[49m\u001b[43m \u001b[49m\u001b[38;5;124;43m\"\u001b[39;49m\u001b[38;5;124;43mleft\u001b[39;49m\u001b[38;5;124;43m\"\u001b[39;49m\u001b[43m)\u001b[49m\n\u001b[0;32m   6485\u001b[0m \u001b[38;5;28;01mif\u001b[39;00m start_slice \u001b[38;5;129;01mis\u001b[39;00m \u001b[38;5;28;01mNone\u001b[39;00m:\n\u001b[0;32m   6486\u001b[0m     start_slice \u001b[38;5;241m=\u001b[39m \u001b[38;5;241m0\u001b[39m\n",
      "File \u001b[1;32m~\\anaconda3\\lib\\site-packages\\pandas\\core\\indexes\\base.py:6400\u001b[0m, in \u001b[0;36mIndex.get_slice_bound\u001b[1;34m(self, label, side, kind)\u001b[0m\n\u001b[0;32m   6398\u001b[0m \u001b[38;5;28;01mexcept\u001b[39;00m \u001b[38;5;167;01mKeyError\u001b[39;00m \u001b[38;5;28;01mas\u001b[39;00m err:\n\u001b[0;32m   6399\u001b[0m     \u001b[38;5;28;01mtry\u001b[39;00m:\n\u001b[1;32m-> 6400\u001b[0m         \u001b[38;5;28;01mreturn\u001b[39;00m \u001b[38;5;28;43mself\u001b[39;49m\u001b[38;5;241;43m.\u001b[39;49m\u001b[43m_searchsorted_monotonic\u001b[49m\u001b[43m(\u001b[49m\u001b[43mlabel\u001b[49m\u001b[43m,\u001b[49m\u001b[43m \u001b[49m\u001b[43mside\u001b[49m\u001b[43m)\u001b[49m\n\u001b[0;32m   6401\u001b[0m     \u001b[38;5;28;01mexcept\u001b[39;00m \u001b[38;5;167;01mValueError\u001b[39;00m:\n\u001b[0;32m   6402\u001b[0m         \u001b[38;5;66;03m# raise the original KeyError\u001b[39;00m\n\u001b[0;32m   6403\u001b[0m         \u001b[38;5;28;01mraise\u001b[39;00m err\n",
      "File \u001b[1;32m~\\anaconda3\\lib\\site-packages\\pandas\\core\\indexes\\base.py:6346\u001b[0m, in \u001b[0;36mIndex._searchsorted_monotonic\u001b[1;34m(self, label, side)\u001b[0m\n\u001b[0;32m   6344\u001b[0m \u001b[38;5;28;01mdef\u001b[39;00m \u001b[38;5;21m_searchsorted_monotonic\u001b[39m(\u001b[38;5;28mself\u001b[39m, label, side: Literal[\u001b[38;5;124m\"\u001b[39m\u001b[38;5;124mleft\u001b[39m\u001b[38;5;124m\"\u001b[39m, \u001b[38;5;124m\"\u001b[39m\u001b[38;5;124mright\u001b[39m\u001b[38;5;124m\"\u001b[39m] \u001b[38;5;241m=\u001b[39m \u001b[38;5;124m\"\u001b[39m\u001b[38;5;124mleft\u001b[39m\u001b[38;5;124m\"\u001b[39m):\n\u001b[0;32m   6345\u001b[0m     \u001b[38;5;28;01mif\u001b[39;00m \u001b[38;5;28mself\u001b[39m\u001b[38;5;241m.\u001b[39mis_monotonic_increasing:\n\u001b[1;32m-> 6346\u001b[0m         \u001b[38;5;28;01mreturn\u001b[39;00m \u001b[38;5;28;43mself\u001b[39;49m\u001b[38;5;241;43m.\u001b[39;49m\u001b[43msearchsorted\u001b[49m\u001b[43m(\u001b[49m\u001b[43mlabel\u001b[49m\u001b[43m,\u001b[49m\u001b[43m \u001b[49m\u001b[43mside\u001b[49m\u001b[38;5;241;43m=\u001b[39;49m\u001b[43mside\u001b[49m\u001b[43m)\u001b[49m\n\u001b[0;32m   6347\u001b[0m     \u001b[38;5;28;01melif\u001b[39;00m \u001b[38;5;28mself\u001b[39m\u001b[38;5;241m.\u001b[39mis_monotonic_decreasing:\n\u001b[0;32m   6348\u001b[0m         \u001b[38;5;66;03m# np.searchsorted expects ascending sort order, have to reverse\u001b[39;00m\n\u001b[0;32m   6349\u001b[0m         \u001b[38;5;66;03m# everything for it to work (element ordering, search side and\u001b[39;00m\n\u001b[0;32m   6350\u001b[0m         \u001b[38;5;66;03m# resulting value).\u001b[39;00m\n\u001b[0;32m   6351\u001b[0m         pos \u001b[38;5;241m=\u001b[39m \u001b[38;5;28mself\u001b[39m[::\u001b[38;5;241m-\u001b[39m\u001b[38;5;241m1\u001b[39m]\u001b[38;5;241m.\u001b[39msearchsorted(\n\u001b[0;32m   6352\u001b[0m             label, side\u001b[38;5;241m=\u001b[39m\u001b[38;5;124m\"\u001b[39m\u001b[38;5;124mright\u001b[39m\u001b[38;5;124m\"\u001b[39m \u001b[38;5;28;01mif\u001b[39;00m side \u001b[38;5;241m==\u001b[39m \u001b[38;5;124m\"\u001b[39m\u001b[38;5;124mleft\u001b[39m\u001b[38;5;124m\"\u001b[39m \u001b[38;5;28;01melse\u001b[39;00m \u001b[38;5;124m\"\u001b[39m\u001b[38;5;124mleft\u001b[39m\u001b[38;5;124m\"\u001b[39m\n\u001b[0;32m   6353\u001b[0m         )\n",
      "File \u001b[1;32m~\\anaconda3\\lib\\site-packages\\pandas\\core\\base.py:1268\u001b[0m, in \u001b[0;36mIndexOpsMixin.searchsorted\u001b[1;34m(self, value, side, sorter)\u001b[0m\n\u001b[0;32m   1264\u001b[0m \u001b[38;5;28;01mif\u001b[39;00m \u001b[38;5;129;01mnot\u001b[39;00m \u001b[38;5;28misinstance\u001b[39m(values, np\u001b[38;5;241m.\u001b[39mndarray):\n\u001b[0;32m   1265\u001b[0m     \u001b[38;5;66;03m# Going through EA.searchsorted directly improves performance GH#38083\u001b[39;00m\n\u001b[0;32m   1266\u001b[0m     \u001b[38;5;28;01mreturn\u001b[39;00m values\u001b[38;5;241m.\u001b[39msearchsorted(value, side\u001b[38;5;241m=\u001b[39mside, sorter\u001b[38;5;241m=\u001b[39msorter)\n\u001b[1;32m-> 1268\u001b[0m \u001b[38;5;28;01mreturn\u001b[39;00m \u001b[43malgorithms\u001b[49m\u001b[38;5;241;43m.\u001b[39;49m\u001b[43msearchsorted\u001b[49m\u001b[43m(\u001b[49m\n\u001b[0;32m   1269\u001b[0m \u001b[43m    \u001b[49m\u001b[43mvalues\u001b[49m\u001b[43m,\u001b[49m\n\u001b[0;32m   1270\u001b[0m \u001b[43m    \u001b[49m\u001b[43mvalue\u001b[49m\u001b[43m,\u001b[49m\n\u001b[0;32m   1271\u001b[0m \u001b[43m    \u001b[49m\u001b[43mside\u001b[49m\u001b[38;5;241;43m=\u001b[39;49m\u001b[43mside\u001b[49m\u001b[43m,\u001b[49m\n\u001b[0;32m   1272\u001b[0m \u001b[43m    \u001b[49m\u001b[43msorter\u001b[49m\u001b[38;5;241;43m=\u001b[39;49m\u001b[43msorter\u001b[49m\u001b[43m,\u001b[49m\n\u001b[0;32m   1273\u001b[0m \u001b[43m\u001b[49m\u001b[43m)\u001b[49m\n",
      "File \u001b[1;32m~\\anaconda3\\lib\\site-packages\\pandas\\core\\algorithms.py:1537\u001b[0m, in \u001b[0;36msearchsorted\u001b[1;34m(arr, value, side, sorter)\u001b[0m\n\u001b[0;32m   1533\u001b[0m     arr \u001b[38;5;241m=\u001b[39m ensure_wrapped_if_datetimelike(arr)\n\u001b[0;32m   1535\u001b[0m \u001b[38;5;66;03m# Argument 1 to \"searchsorted\" of \"ndarray\" has incompatible type\u001b[39;00m\n\u001b[0;32m   1536\u001b[0m \u001b[38;5;66;03m# \"Union[NumpyValueArrayLike, ExtensionArray]\"; expected \"NumpyValueArrayLike\"\u001b[39;00m\n\u001b[1;32m-> 1537\u001b[0m \u001b[38;5;28;01mreturn\u001b[39;00m \u001b[43marr\u001b[49m\u001b[38;5;241;43m.\u001b[39;49m\u001b[43msearchsorted\u001b[49m\u001b[43m(\u001b[49m\u001b[43mvalue\u001b[49m\u001b[43m,\u001b[49m\u001b[43m \u001b[49m\u001b[43mside\u001b[49m\u001b[38;5;241;43m=\u001b[39;49m\u001b[43mside\u001b[49m\u001b[43m,\u001b[49m\u001b[43m \u001b[49m\u001b[43msorter\u001b[49m\u001b[38;5;241;43m=\u001b[39;49m\u001b[43msorter\u001b[49m\u001b[43m)\u001b[49m\n",
      "\u001b[1;31mTypeError\u001b[0m: '<' not supported between instances of 'datetime.datetime' and 'str'"
     ]
    }
   ],
   "source": [
    "sp500 = sp500.loc[\"1990-01-01\":].copy()"
   ]
  },
  {
   "cell_type": "code",
   "execution_count": 10,
   "id": "5ab96269",
   "metadata": {},
   "outputs": [
    {
     "data": {
      "text/plain": [
       "RandomForestClassifier(min_samples_split=100, random_state=1)"
      ]
     },
     "execution_count": 10,
     "metadata": {},
     "output_type": "execute_result"
    }
   ],
   "source": [
    "from sklearn.ensemble import RandomForestClassifier\n",
    "\n",
    "model = RandomForestClassifier(n_estimators=100, min_samples_split=100, random_state=1)\n",
    "\n",
    "train = sp500.iloc[:-100]\n",
    "test = sp500.iloc[-100:]\n",
    "\n",
    "predictors = [\"Close\", \"Volume\", \"Open\", \"High\", \"Low\"]\n",
    "model.fit(train[predictors], train[\"Target\"])"
   ]
  },
  {
   "cell_type": "code",
   "execution_count": 11,
   "id": "0ff673bd",
   "metadata": {},
   "outputs": [
    {
     "data": {
      "text/plain": [
       "0.55"
      ]
     },
     "execution_count": 11,
     "metadata": {},
     "output_type": "execute_result"
    }
   ],
   "source": [
    "from sklearn.metrics import precision_score\n",
    "\n",
    "preds = model.predict(test[predictors])\n",
    "preds = pd.Series(preds, index=test.index)\n",
    "precision_score(test[\"Target\"], preds)"
   ]
  },
  {
   "cell_type": "code",
   "execution_count": 12,
   "id": "4a08839e",
   "metadata": {},
   "outputs": [
    {
     "data": {
      "text/plain": [
       "<AxesSubplot:xlabel='Date'>"
      ]
     },
     "execution_count": 12,
     "metadata": {},
     "output_type": "execute_result"
    },
    {
     "data": {
      "image/png": "[encoded data removed]",
      "text/plain": [
       "<Figure size 432x288 with 1 Axes>"
      ]
     },
     "metadata": {
      "needs_background": "light"
     },
     "output_type": "display_data"
    }
   ],
   "source": [
    "combined = pd.concat([test[\"Target\"], preds], axis=1)\n",
    "combined.plot()"
   ]
  },
  {
   "cell_type": "code",
   "execution_count": 13,
   "id": "de8040cb",
   "metadata": {},
   "outputs": [],
   "source": [
    "def predict(train, test, predictors, model):\n",
    "    model.fit(train[predictors], train[\"Target\"])\n",
    "    preds = model.predict(test[predictors])\n",
    "    preds = pd.Series(preds, index=test.index, name=\"Predictions\")\n",
    "    combined = pd.concat([test[\"Target\"], preds], axis=1)\n",
    "    return combined"
   ]
  },
  {
   "cell_type": "code",
   "execution_count": 26,
   "id": "a67b9433",
   "metadata": {},
   "outputs": [],
   "source": [
    "def backtest(data, model, predictors, start=2500, step=250):\n",
    "    all_predictions = []\n",
    "\n",
    "    for i in range(start, data.shape[0], step):\n",
    "        train = data.iloc[0:i].copy()\n",
    "        test = data.iloc[i:(i+step)].copy()\n",
    "        predictions = predict(train, test, predictors, model)\n",
    "        all_predictions.append(predictions)\n",
    "    \n",
    "    return pd.concat(all_predictions)"
   ]
  },
  {
   "cell_type": "code",
   "execution_count": 15,
   "id": "fd6785d3",
   "metadata": {},
   "outputs": [],
   "source": [
    "predictions = backtest(sp500, model, predictors)"
   ]
  },
  {
   "cell_type": "code",
   "execution_count": 16,
   "id": "550111cc",
   "metadata": {},
   "outputs": [
    {
     "data": {
      "text/plain": [
       "0    12312\n",
       "1     9563\n",
       "Name: Predictions, dtype: int64"
      ]
     },
     "execution_count": 16,
     "metadata": {},
     "output_type": "execute_result"
    }
   ],
   "source": [
    "predictions[\"Predictions\"].value_counts()"
   ]
  },
  {
   "cell_type": "code",
   "execution_count": 17,
   "id": "147fe9d9",
   "metadata": {},
   "outputs": [
    {
     "data": {
      "text/plain": [
       "0.5175154240301161"
      ]
     },
     "execution_count": 17,
     "metadata": {},
     "output_type": "execute_result"
    }
   ],
   "source": [
    "precision_score(predictions[\"Target\"], predictions[\"Predictions\"])"
   ]
  },
  {
   "cell_type": "code",
   "execution_count": 18,
   "id": "73a301ad",
   "metadata": {},
   "outputs": [
    {
     "data": {
      "text/plain": [
       "1    0.52672\n",
       "0    0.47328\n",
       "Name: Target, dtype: float64"
      ]
     },
     "execution_count": 18,
     "metadata": {},
     "output_type": "execute_result"
    }
   ],
   "source": [
    "predictions[\"Target\"].value_counts() / predictions.shape[0]"
   ]
  },
  {
   "cell_type": "code",
   "execution_count": 19,
   "id": "7673415a",
   "metadata": {},
   "outputs": [],
   "source": [
    "horizons = [2,5,60,250,1000]\n",
    "new_predictors = []\n",
    "\n",
    "for horizon in horizons:\n",
    "    rolling_averages = sp500.rolling(horizon).mean()\n",
    "    \n",
    "    ratio_column = f\"Close_Ratio_{horizon}\"\n",
    "    sp500[ratio_column] = sp500[\"Close\"] / rolling_averages[\"Close\"]\n",
    "    \n",
    "    trend_column = f\"Trend_{horizon}\"\n",
    "    sp500[trend_column] = sp500.shift(1).rolling(horizon).sum()[\"Target\"]\n",
    "    \n",
    "    new_predictors+= [ratio_column, trend_column]"
   ]
  },
  {
   "cell_type": "code",
   "execution_count": 20,
   "id": "ba95c5c6",
   "metadata": {},
   "outputs": [],
   "source": [
    "sp500 = sp500.dropna(subset=sp500.columns[sp500.columns != \"Tomorrow\"])"
   ]
  },
  {
   "cell_type": "code",
   "execution_count": 21,
   "id": "a4e72d80",
   "metadata": {},
   "outputs": [
    {
     "data": {
      "text/html": [
       "<div>\n",
       "<style scoped>\n",
       "    .dataframe tbody tr th:only-of-type {\n",
       "        vertical-align: middle;\n",
       "    }\n",
       "\n",
       "    .dataframe tbody tr th {\n",
       "        vertical-align: top;\n",
       "    }\n",
       "\n",
       "    .dataframe thead th {\n",
       "        text-align: right;\n",
       "    }\n",
       "</style>\n",
       "<table border=\"1\" class=\"dataframe\">\n",
       "  <thead>\n",
       "    <tr style=\"text-align: right;\">\n",
       "      <th></th>\n",
       "      <th>Open</th>\n",
       "      <th>High</th>\n",
       "      <th>Low</th>\n",
       "      <th>Close</th>\n",
       "      <th>Volume</th>\n",
       "      <th>Tomorrow</th>\n",
       "      <th>Target</th>\n",
       "      <th>Close_Ratio_2</th>\n",
       "      <th>Trend_2</th>\n",
       "      <th>Close_Ratio_5</th>\n",
       "      <th>Trend_5</th>\n",
       "      <th>Close_Ratio_60</th>\n",
       "      <th>Trend_60</th>\n",
       "      <th>Close_Ratio_250</th>\n",
       "      <th>Trend_250</th>\n",
       "      <th>Close_Ratio_1000</th>\n",
       "      <th>Trend_1000</th>\n",
       "    </tr>\n",
       "    <tr>\n",
       "      <th>Date</th>\n",
       "      <th></th>\n",
       "      <th></th>\n",
       "      <th></th>\n",
       "      <th></th>\n",
       "      <th></th>\n",
       "      <th></th>\n",
       "      <th></th>\n",
       "      <th></th>\n",
       "      <th></th>\n",
       "      <th></th>\n",
       "      <th></th>\n",
       "      <th></th>\n",
       "      <th></th>\n",
       "      <th></th>\n",
       "      <th></th>\n",
       "      <th></th>\n",
       "      <th></th>\n",
       "    </tr>\n",
       "  </thead>\n",
       "  <tbody>\n",
       "    <tr>\n",
       "      <th>1931-12-29 00:00:00-05:00</th>\n",
       "      <td>7.960000</td>\n",
       "      <td>7.960000</td>\n",
       "      <td>7.960000</td>\n",
       "      <td>7.960000</td>\n",
       "      <td>0</td>\n",
       "      <td>8.100000</td>\n",
       "      <td>1</td>\n",
       "      <td>1.012723</td>\n",
       "      <td>1.0</td>\n",
       "      <td>0.996994</td>\n",
       "      <td>3.0</td>\n",
       "      <td>0.821282</td>\n",
       "      <td>24.0</td>\n",
       "      <td>0.582074</td>\n",
       "      <td>105.0</td>\n",
       "      <td>0.394305</td>\n",
       "      <td>521.0</td>\n",
       "    </tr>\n",
       "    <tr>\n",
       "      <th>1931-12-30 00:00:00-05:00</th>\n",
       "      <td>8.100000</td>\n",
       "      <td>8.100000</td>\n",
       "      <td>8.100000</td>\n",
       "      <td>8.100000</td>\n",
       "      <td>0</td>\n",
       "      <td>8.120000</td>\n",
       "      <td>1</td>\n",
       "      <td>1.008717</td>\n",
       "      <td>2.0</td>\n",
       "      <td>1.019381</td>\n",
       "      <td>3.0</td>\n",
       "      <td>0.837787</td>\n",
       "      <td>25.0</td>\n",
       "      <td>0.593657</td>\n",
       "      <td>105.0</td>\n",
       "      <td>0.401432</td>\n",
       "      <td>521.0</td>\n",
       "    </tr>\n",
       "    <tr>\n",
       "      <th>1931-12-31 00:00:00-05:00</th>\n",
       "      <td>8.120000</td>\n",
       "      <td>8.120000</td>\n",
       "      <td>8.120000</td>\n",
       "      <td>8.120000</td>\n",
       "      <td>0</td>\n",
       "      <td>7.560000</td>\n",
       "      <td>0</td>\n",
       "      <td>1.001233</td>\n",
       "      <td>2.0</td>\n",
       "      <td>1.017544</td>\n",
       "      <td>4.0</td>\n",
       "      <td>0.842149</td>\n",
       "      <td>25.0</td>\n",
       "      <td>0.596489</td>\n",
       "      <td>105.0</td>\n",
       "      <td>0.402615</td>\n",
       "      <td>522.0</td>\n",
       "    </tr>\n",
       "    <tr>\n",
       "      <th>1932-01-04 00:00:00-05:00</th>\n",
       "      <td>7.560000</td>\n",
       "      <td>7.560000</td>\n",
       "      <td>7.560000</td>\n",
       "      <td>7.560000</td>\n",
       "      <td>0</td>\n",
       "      <td>7.550000</td>\n",
       "      <td>0</td>\n",
       "      <td>0.964286</td>\n",
       "      <td>1.0</td>\n",
       "      <td>0.956962</td>\n",
       "      <td>3.0</td>\n",
       "      <td>0.785781</td>\n",
       "      <td>25.0</td>\n",
       "      <td>0.556754</td>\n",
       "      <td>104.0</td>\n",
       "      <td>0.375034</td>\n",
       "      <td>522.0</td>\n",
       "    </tr>\n",
       "    <tr>\n",
       "      <th>1932-01-05 00:00:00-05:00</th>\n",
       "      <td>7.550000</td>\n",
       "      <td>7.550000</td>\n",
       "      <td>7.550000</td>\n",
       "      <td>7.550000</td>\n",
       "      <td>0</td>\n",
       "      <td>8.080000</td>\n",
       "      <td>1</td>\n",
       "      <td>0.999338</td>\n",
       "      <td>0.0</td>\n",
       "      <td>0.960804</td>\n",
       "      <td>3.0</td>\n",
       "      <td>0.787963</td>\n",
       "      <td>24.0</td>\n",
       "      <td>0.557255</td>\n",
       "      <td>104.0</td>\n",
       "      <td>0.374726</td>\n",
       "      <td>521.0</td>\n",
       "    </tr>\n",
       "    <tr>\n",
       "      <th>...</th>\n",
       "      <td>...</td>\n",
       "      <td>...</td>\n",
       "      <td>...</td>\n",
       "      <td>...</td>\n",
       "      <td>...</td>\n",
       "      <td>...</td>\n",
       "      <td>...</td>\n",
       "      <td>...</td>\n",
       "      <td>...</td>\n",
       "      <td>...</td>\n",
       "      <td>...</td>\n",
       "      <td>...</td>\n",
       "      <td>...</td>\n",
       "      <td>...</td>\n",
       "      <td>...</td>\n",
       "      <td>...</td>\n",
       "      <td>...</td>\n",
       "    </tr>\n",
       "    <tr>\n",
       "      <th>2025-01-07 00:00:00-05:00</th>\n",
       "      <td>5993.259766</td>\n",
       "      <td>6000.680176</td>\n",
       "      <td>5890.680176</td>\n",
       "      <td>5909.029785</td>\n",
       "      <td>4517330000</td>\n",
       "      <td>5918.250000</td>\n",
       "      <td>1</td>\n",
       "      <td>0.994417</td>\n",
       "      <td>1.0</td>\n",
       "      <td>0.998921</td>\n",
       "      <td>2.0</td>\n",
       "      <td>0.996302</td>\n",
       "      <td>33.0</td>\n",
       "      <td>1.083624</td>\n",
       "      <td>143.0</td>\n",
       "      <td>1.303227</td>\n",
       "      <td>527.0</td>\n",
       "    </tr>\n",
       "    <tr>\n",
       "      <th>2025-01-08 00:00:00-05:00</th>\n",
       "      <td>5910.660156</td>\n",
       "      <td>5927.890137</td>\n",
       "      <td>5874.779785</td>\n",
       "      <td>5918.250000</td>\n",
       "      <td>4441740000</td>\n",
       "      <td>5827.040039</td>\n",
       "      <td>0</td>\n",
       "      <td>1.000780</td>\n",
       "      <td>1.0</td>\n",
       "      <td>0.999243</td>\n",
       "      <td>3.0</td>\n",
       "      <td>0.997567</td>\n",
       "      <td>33.0</td>\n",
       "      <td>1.084412</td>\n",
       "      <td>143.0</td>\n",
       "      <td>1.304642</td>\n",
       "      <td>528.0</td>\n",
       "    </tr>\n",
       "    <tr>\n",
       "      <th>2025-01-10 00:00:00-05:00</th>\n",
       "      <td>5890.350098</td>\n",
       "      <td>5890.350098</td>\n",
       "      <td>5807.779785</td>\n",
       "      <td>5827.040039</td>\n",
       "      <td>4751930000</td>\n",
       "      <td>5836.220215</td>\n",
       "      <td>1</td>\n",
       "      <td>0.992234</td>\n",
       "      <td>1.0</td>\n",
       "      <td>0.985224</td>\n",
       "      <td>3.0</td>\n",
       "      <td>0.982284</td>\n",
       "      <td>32.0</td>\n",
       "      <td>1.066881</td>\n",
       "      <td>143.0</td>\n",
       "      <td>1.283961</td>\n",
       "      <td>527.0</td>\n",
       "    </tr>\n",
       "    <tr>\n",
       "      <th>2025-01-13 00:00:00-05:00</th>\n",
       "      <td>5782.020020</td>\n",
       "      <td>5838.609863</td>\n",
       "      <td>5773.310059</td>\n",
       "      <td>5836.220215</td>\n",
       "      <td>4421200000</td>\n",
       "      <td>5842.910156</td>\n",
       "      <td>1</td>\n",
       "      <td>1.000787</td>\n",
       "      <td>1.0</td>\n",
       "      <td>0.990334</td>\n",
       "      <td>3.0</td>\n",
       "      <td>0.983773</td>\n",
       "      <td>33.0</td>\n",
       "      <td>1.067738</td>\n",
       "      <td>143.0</td>\n",
       "      <td>1.285422</td>\n",
       "      <td>527.0</td>\n",
       "    </tr>\n",
       "    <tr>\n",
       "      <th>2025-01-14 00:00:00-05:00</th>\n",
       "      <td>5859.270020</td>\n",
       "      <td>5871.919922</td>\n",
       "      <td>5805.419922</td>\n",
       "      <td>5842.910156</td>\n",
       "      <td>4142280000</td>\n",
       "      <td>NaN</td>\n",
       "      <td>0</td>\n",
       "      <td>1.000573</td>\n",
       "      <td>2.0</td>\n",
       "      <td>0.995947</td>\n",
       "      <td>3.0</td>\n",
       "      <td>0.984900</td>\n",
       "      <td>33.0</td>\n",
       "      <td>1.068121</td>\n",
       "      <td>144.0</td>\n",
       "      <td>1.286331</td>\n",
       "      <td>527.0</td>\n",
       "    </tr>\n",
       "  </tbody>\n",
       "</table>\n",
       "<p>23375 rows × 17 columns</p>\n",
       "</div>"
      ],
      "text/plain": [
       "                                  Open         High          Low        Close  \\\n",
       "Date                                                                            \n",
       "1931-12-29 00:00:00-05:00     7.960000     7.960000     7.960000     7.960000   \n",
       "1931-12-30 00:00:00-05:00     8.100000     8.100000     8.100000     8.100000   \n",
       "1931-12-31 00:00:00-05:00     8.120000     8.120000     8.120000     8.120000   \n",
       "1932-01-04 00:00:00-05:00     7.560000     7.560000     7.560000     7.560000   \n",
       "1932-01-05 00:00:00-05:00     7.550000     7.550000     7.550000     7.550000   \n",
       "...                                ...          ...          ...          ...   \n",
       "2025-01-07 00:00:00-05:00  5993.259766  6000.680176  5890.680176  5909.029785   \n",
       "2025-01-08 00:00:00-05:00  5910.660156  5927.890137  5874.779785  5918.250000   \n",
       "2025-01-10 00:00:00-05:00  5890.350098  5890.350098  5807.779785  5827.040039   \n",
       "2025-01-13 00:00:00-05:00  5782.020020  5838.609863  5773.310059  5836.220215   \n",
       "2025-01-14 00:00:00-05:00  5859.270020  5871.919922  5805.419922  5842.910156   \n",
       "\n",
       "                               Volume     Tomorrow  Target  Close_Ratio_2  \\\n",
       "Date                                                                        \n",
       "1931-12-29 00:00:00-05:00           0     8.100000       1       1.012723   \n",
       "1931-12-30 00:00:00-05:00           0     8.120000       1       1.008717   \n",
       "1931-12-31 00:00:00-05:00           0     7.560000       0       1.001233   \n",
       "1932-01-04 00:00:00-05:00           0     7.550000       0       0.964286   \n",
       "1932-01-05 00:00:00-05:00           0     8.080000       1       0.999338   \n",
       "...                               ...          ...     ...            ...   \n",
       "2025-01-07 00:00:00-05:00  4517330000  5918.250000       1       0.994417   \n",
       "2025-01-08 00:00:00-05:00  4441740000  5827.040039       0       1.000780   \n",
       "2025-01-10 00:00:00-05:00  4751930000  5836.220215       1       0.992234   \n",
       "2025-01-13 00:00:00-05:00  4421200000  5842.910156       1       1.000787   \n",
       "2025-01-14 00:00:00-05:00  4142280000          NaN       0       1.000573   \n",
       "\n",
       "                           Trend_2  Close_Ratio_5  Trend_5  Close_Ratio_60  \\\n",
       "Date                                                                         \n",
       "1931-12-29 00:00:00-05:00      1.0       0.996994      3.0        0.821282   \n",
       "1931-12-30 00:00:00-05:00      2.0       1.019381      3.0        0.837787   \n",
       "1931-12-31 00:00:00-05:00      2.0       1.017544      4.0        0.842149   \n",
       "1932-01-04 00:00:00-05:00      1.0       0.956962      3.0        0.785781   \n",
       "1932-01-05 00:00:00-05:00      0.0       0.960804      3.0        0.787963   \n",
       "...                            ...            ...      ...             ...   \n",
       "2025-01-07 00:00:00-05:00      1.0       0.998921      2.0        0.996302   \n",
       "2025-01-08 00:00:00-05:00      1.0       0.999243      3.0        0.997567   \n",
       "2025-01-10 00:00:00-05:00      1.0       0.985224      3.0        0.982284   \n",
       "2025-01-13 00:00:00-05:00      1.0       0.990334      3.0        0.983773   \n",
       "2025-01-14 00:00:00-05:00      2.0       0.995947      3.0        0.984900   \n",
       "\n",
       "                           Trend_60  Close_Ratio_250  Trend_250  \\\n",
       "Date                                                              \n",
       "1931-12-29 00:00:00-05:00      24.0         0.582074      105.0   \n",
       "1931-12-30 00:00:00-05:00      25.0         0.593657      105.0   \n",
       "1931-12-31 00:00:00-05:00      25.0         0.596489      105.0   \n",
       "1932-01-04 00:00:00-05:00      25.0         0.556754      104.0   \n",
       "1932-01-05 00:00:00-05:00      24.0         0.557255      104.0   \n",
       "...                             ...              ...        ...   \n",
       "2025-01-07 00:00:00-05:00      33.0         1.083624      143.0   \n",
       "2025-01-08 00:00:00-05:00      33.0         1.084412      143.0   \n",
       "2025-01-10 00:00:00-05:00      32.0         1.066881      143.0   \n",
       "2025-01-13 00:00:00-05:00      33.0         1.067738      143.0   \n",
       "2025-01-14 00:00:00-05:00      33.0         1.068121      144.0   \n",
       "\n",
       "                           Close_Ratio_1000  Trend_1000  \n",
       "Date                                                     \n",
       "1931-12-29 00:00:00-05:00          0.394305       521.0  \n",
       "1931-12-30 00:00:00-05:00          0.401432       521.0  \n",
       "1931-12-31 00:00:00-05:00          0.402615       522.0  \n",
       "1932-01-04 00:00:00-05:00          0.375034       522.0  \n",
       "1932-01-05 00:00:00-05:00          0.374726       521.0  \n",
       "...                                     ...         ...  \n",
       "2025-01-07 00:00:00-05:00          1.303227       527.0  \n",
       "2025-01-08 00:00:00-05:00          1.304642       528.0  \n",
       "2025-01-10 00:00:00-05:00          1.283961       527.0  \n",
       "2025-01-13 00:00:00-05:00          1.285422       527.0  \n",
       "2025-01-14 00:00:00-05:00          1.286331       527.0  \n",
       "\n",
       "[23375 rows x 17 columns]"
      ]
     },
     "execution_count": 21,
     "metadata": {},
     "output_type": "execute_result"
    }
   ],
   "source": [
    "sp500"
   ]
  },
  {
   "cell_type": "code",
   "execution_count": 22,
   "id": "83b1990d",
   "metadata": {},
   "outputs": [],
   "source": [
    "model = RandomForestClassifier(n_estimators=200, min_samples_split=50, random_state=1)"
   ]
  },
  {
   "cell_type": "code",
   "execution_count": 23,
   "id": "e72cd0f7",
   "metadata": {},
   "outputs": [],
   "source": [
    "def predict(train, test, predictors, model):\n",
    "    model.fit(train[predictors], train[\"Target\"])\n",
    "    preds = model.predict_proba(test[predictors])[:,1]\n",
    "    preds[preds >=.6] = 1\n",
    "    preds[preds <.6] = 0\n",
    "    preds = pd.Series(preds, index=test.index, name=\"Predictions\")\n",
    "    combined = pd.concat([test[\"Target\"], preds], axis=1)\n",
    "    return combined"
   ]
  },
  {
   "cell_type": "code",
   "execution_count": 24,
   "id": "2b066e02",
   "metadata": {},
   "outputs": [],
   "source": [
    "predictions = backtest(sp500, model, new_predictors)"
   ]
  },
  {
   "cell_type": "code",
   "execution_count": 25,
   "id": "a49e6a5f",
   "metadata": {},
   "outputs": [
    {
     "data": {
      "text/plain": [
       "0.0    17689\n",
       "1.0     3186\n",
       "Name: Predictions, dtype: int64"
      ]
     },
     "execution_count": 25,
     "metadata": {},
     "output_type": "execute_result"
    }
   ],
   "source": [
    "predictions[\"Predictions\"].value_counts()"
   ]
  },
  {
   "cell_type": "code",
   "execution_count": 27,
   "id": "45ae3ead",
   "metadata": {},
   "outputs": [
    {
     "data": {
      "text/plain": [
       "0.5969868173258004"
      ]
     },
     "execution_count": 27,
     "metadata": {},
     "output_type": "execute_result"
    }
   ],
   "source": [
    "precision_score(predictions[\"Target\"], predictions[\"Predictions\"])"
   ]
  },
  {
   "cell_type": "code",
   "execution_count": 28,
   "id": "81c33863",
   "metadata": {},
   "outputs": [
    {
     "data": {
      "text/plain": [
       "1    0.529389\n",
       "0    0.470611\n",
       "Name: Target, dtype: float64"
      ]
     },
     "execution_count": 28,
     "metadata": {},
     "output_type": "execute_result"
    }
   ],
   "source": [
    "predictions[\"Target\"].value_counts() / predictions.shape[0]"
   ]
  },
  {
   "cell_type": "code",
   "execution_count": 29,
   "id": "73198248",
   "metadata": {},
   "outputs": [
    {
     "data": {
      "text/html": [
       "<div>\n",
       "<style scoped>\n",
       "    .dataframe tbody tr th:only-of-type {\n",
       "        vertical-align: middle;\n",
       "    }\n",
       "\n",
       "    .dataframe tbody tr th {\n",
       "        vertical-align: top;\n",
       "    }\n",
       "\n",
       "    .dataframe thead th {\n",
       "        text-align: right;\n",
       "    }\n",
       "</style>\n",
       "<table border=\"1\" class=\"dataframe\">\n",
       "  <thead>\n",
       "    <tr style=\"text-align: right;\">\n",
       "      <th></th>\n",
       "      <th>Target</th>\n",
       "      <th>Predictions</th>\n",
       "    </tr>\n",
       "    <tr>\n",
       "      <th>Date</th>\n",
       "      <th></th>\n",
       "      <th></th>\n",
       "    </tr>\n",
       "  </thead>\n",
       "  <tbody>\n",
       "    <tr>\n",
       "      <th>1942-01-07 00:00:00-05:00</th>\n",
       "      <td>0</td>\n",
       "      <td>0.0</td>\n",
       "    </tr>\n",
       "    <tr>\n",
       "      <th>1942-01-08 00:00:00-05:00</th>\n",
       "      <td>0</td>\n",
       "      <td>0.0</td>\n",
       "    </tr>\n",
       "    <tr>\n",
       "      <th>1942-01-09 00:00:00-05:00</th>\n",
       "      <td>0</td>\n",
       "      <td>0.0</td>\n",
       "    </tr>\n",
       "    <tr>\n",
       "      <th>1942-01-12 00:00:00-05:00</th>\n",
       "      <td>1</td>\n",
       "      <td>0.0</td>\n",
       "    </tr>\n",
       "    <tr>\n",
       "      <th>1942-01-13 00:00:00-05:00</th>\n",
       "      <td>0</td>\n",
       "      <td>0.0</td>\n",
       "    </tr>\n",
       "    <tr>\n",
       "      <th>...</th>\n",
       "      <td>...</td>\n",
       "      <td>...</td>\n",
       "    </tr>\n",
       "    <tr>\n",
       "      <th>2025-01-07 00:00:00-05:00</th>\n",
       "      <td>1</td>\n",
       "      <td>0.0</td>\n",
       "    </tr>\n",
       "    <tr>\n",
       "      <th>2025-01-08 00:00:00-05:00</th>\n",
       "      <td>0</td>\n",
       "      <td>0.0</td>\n",
       "    </tr>\n",
       "    <tr>\n",
       "      <th>2025-01-10 00:00:00-05:00</th>\n",
       "      <td>1</td>\n",
       "      <td>0.0</td>\n",
       "    </tr>\n",
       "    <tr>\n",
       "      <th>2025-01-13 00:00:00-05:00</th>\n",
       "      <td>1</td>\n",
       "      <td>0.0</td>\n",
       "    </tr>\n",
       "    <tr>\n",
       "      <th>2025-01-14 00:00:00-05:00</th>\n",
       "      <td>0</td>\n",
       "      <td>0.0</td>\n",
       "    </tr>\n",
       "  </tbody>\n",
       "</table>\n",
       "<p>20875 rows × 2 columns</p>\n",
       "</div>"
      ],
      "text/plain": [
       "                           Target  Predictions\n",
       "Date                                          \n",
       "1942-01-07 00:00:00-05:00       0          0.0\n",
       "1942-01-08 00:00:00-05:00       0          0.0\n",
       "1942-01-09 00:00:00-05:00       0          0.0\n",
       "1942-01-12 00:00:00-05:00       1          0.0\n",
       "1942-01-13 00:00:00-05:00       0          0.0\n",
       "...                           ...          ...\n",
       "2025-01-07 00:00:00-05:00       1          0.0\n",
       "2025-01-08 00:00:00-05:00       0          0.0\n",
       "2025-01-10 00:00:00-05:00       1          0.0\n",
       "2025-01-13 00:00:00-05:00       1          0.0\n",
       "2025-01-14 00:00:00-05:00       0          0.0\n",
       "\n",
       "[20875 rows x 2 columns]"
      ]
     },
     "execution_count": 29,
     "metadata": {},
     "output_type": "execute_result"
    }
   ],
   "source": [
    "predictions"
   ]
  },
  {
   "cell_type": "code",
   "execution_count": null,
   "id": "c6225d59",
   "metadata": {},
   "outputs": [],
   "source": []
  }
 ],
 "metadata": {
  "kernelspec": {
   "display_name": "Python 3 (ipykernel)",
   "language": "python",
   "name": "python3"
  },
  "language_info": {
   "codemirror_mode": {
    "name": "ipython",
    "version": 3
   },
   "file_extension": ".py",
   "mimetype": "text/x-python",
   "name": "python",
   "nbconvert_exporter": "python",
   "pygments_lexer": "ipython3",
   "version": "3.9.12"
  }
 },
 "nbformat": 4,
 "nbformat_minor": 5
}
